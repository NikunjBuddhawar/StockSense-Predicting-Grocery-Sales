{
 "cells": [
  {
   "cell_type": "code",
   "execution_count": 2,
   "id": "78afa49b",
   "metadata": {},
   "outputs": [],
   "source": [
    "import pandas as pd\n",
    "import numpy as np\n",
    "from sklearn.model_selection import KFold\n",
    "from sklearn.preprocessing import StandardScaler\n",
    "from tensorflow.keras.models import Sequential\n",
    "from tensorflow.keras.layers import Dense, Dropout\n",
    "from tensorflow.keras.callbacks import EarlyStopping\n"
   ]
  },
  {
   "cell_type": "code",
   "execution_count": 3,
   "id": "2f771a0f",
   "metadata": {},
   "outputs": [
    {
     "name": "stderr",
     "output_type": "stream",
     "text": [
      "c:\\Users\\Nikunj\\miniconda3\\envs\\tf_env\\lib\\site-packages\\tqdm\\auto.py:21: TqdmWarning: IProgress not found. Please update jupyter and ipywidgets. See https://ipywidgets.readthedocs.io/en/stable/user_install.html\n",
      "  from .autonotebook import tqdm as notebook_tqdm\n"
     ]
    },
    {
     "name": "stdout",
     "output_type": "stream",
     "text": [
      "Path to dataset files: C:\\Users\\Nikunj\\.cache\\kagglehub\\datasets\\salahuddinahmedshuvo\\grocery-inventory-and-sales-dataset\\versions\\1\n"
     ]
    }
   ],
   "source": [
    "import kagglehub\n",
    "\n",
    "# Download the dataset to a local directory\n",
    "path = kagglehub.dataset_download(\"salahuddinahmedshuvo/grocery-inventory-and-sales-dataset\")\n",
    "\n",
    "print(\"Path to dataset files:\", path)"
   ]
  },
  {
   "cell_type": "code",
   "execution_count": 4,
   "id": "943df1f6",
   "metadata": {},
   "outputs": [
    {
     "name": "stdout",
     "output_type": "stream",
     "text": [
      "['Grocery_Inventory_and_Sales_Dataset.csv']\n"
     ]
    }
   ],
   "source": [
    "import os\n",
    "\n",
    "path = r\"C:\\Users\\Nikunj\\.cache\\kagglehub\\datasets\\salahuddinahmedshuvo\\grocery-inventory-and-sales-dataset\\versions\\1\"\n",
    "print(os.listdir(path))"
   ]
  },
  {
   "cell_type": "code",
   "execution_count": 5,
   "id": "ba76e67f",
   "metadata": {},
   "outputs": [
    {
     "name": "stdout",
     "output_type": "stream",
     "text": [
      "    Product_ID     Product_Name             Catagory  Supplier_ID  \\\n",
      "0  29-205-1132       Sushi Rice      Grains & Pulses  38-037-1699   \n",
      "1  40-681-9981   Arabica Coffee            Beverages  54-470-2479   \n",
      "2  06-955-3428       Black Rice      Grains & Pulses  54-031-2945   \n",
      "3  71-594-6552  Long Grain Rice      Grains & Pulses  63-492-7603   \n",
      "4  57-437-1828             Plum  Fruits & Vegetables  54-226-4308   \n",
      "\n",
      "  Supplier_Name  Stock_Quantity  Reorder_Level  Reorder_Quantity Unit_Price  \\\n",
      "0     Jaxnation              22             72                70     $4.50    \n",
      "1       Feedmix              45             77                 2    $20.00    \n",
      "2        Vinder              30             38                83     $6.00    \n",
      "3    Brightbean              12             59                62     $1.50    \n",
      "4    Topicstorm              37             30                74     $4.00    \n",
      "\n",
      "  Date_Received Last_Order_Date Expiration_Date      Warehouse_Location  \\\n",
      "0     8/16/2024       6/29/2024       9/19/2024        48 Del Sol Trail   \n",
      "1     11/1/2024       5/29/2024        5/8/2024            36 3rd Place   \n",
      "2      8/3/2024       6/10/2024       9/22/2024       3296 Walton Court   \n",
      "3     12/8/2024       2/19/2025       4/17/2024  3 Westerfield Crossing   \n",
      "4      7/3/2024      10/11/2024       10/5/2024    15068 Scoville Court   \n",
      "\n",
      "   Sales_Volume  Inventory_Turnover_Rate        Status  \n",
      "0            32                       19  Discontinued  \n",
      "1            85                        1  Discontinued  \n",
      "2            31                       34   Backordered  \n",
      "3            95                       99        Active  \n",
      "4            62                       25   Backordered  \n",
      "Index(['Product_ID', 'Product_Name', 'Catagory', 'Supplier_ID',\n",
      "       'Supplier_Name', 'Stock_Quantity', 'Reorder_Level', 'Reorder_Quantity',\n",
      "       'Unit_Price', 'Date_Received', 'Last_Order_Date', 'Expiration_Date',\n",
      "       'Warehouse_Location', 'Sales_Volume', 'Inventory_Turnover_Rate',\n",
      "       'Status'],\n",
      "      dtype='object')\n"
     ]
    }
   ],
   "source": [
    "import pandas as pd\n",
    "\n",
    "file_path = r\"C:\\Users\\Nikunj\\.cache\\kagglehub\\datasets\\salahuddinahmedshuvo\\grocery-inventory-and-sales-dataset\\versions\\1\\Grocery_Inventory_and_Sales_Dataset.csv\"\n",
    "df = pd.read_csv(file_path)\n",
    "\n",
    "print(df.head())\n",
    "print(df.columns)"
   ]
  },
  {
   "cell_type": "code",
   "execution_count": 6,
   "id": "24844003",
   "metadata": {},
   "outputs": [
    {
     "data": {
      "text/html": [
       "<div>\n",
       "<style scoped>\n",
       "    .dataframe tbody tr th:only-of-type {\n",
       "        vertical-align: middle;\n",
       "    }\n",
       "\n",
       "    .dataframe tbody tr th {\n",
       "        vertical-align: top;\n",
       "    }\n",
       "\n",
       "    .dataframe thead th {\n",
       "        text-align: right;\n",
       "    }\n",
       "</style>\n",
       "<table border=\"1\" class=\"dataframe\">\n",
       "  <thead>\n",
       "    <tr style=\"text-align: right;\">\n",
       "      <th></th>\n",
       "      <th>Product_ID</th>\n",
       "      <th>Product_Name</th>\n",
       "      <th>Catagory</th>\n",
       "      <th>Supplier_ID</th>\n",
       "      <th>Supplier_Name</th>\n",
       "      <th>Stock_Quantity</th>\n",
       "      <th>Reorder_Level</th>\n",
       "      <th>Reorder_Quantity</th>\n",
       "      <th>Unit_Price</th>\n",
       "      <th>Date_Received</th>\n",
       "      <th>Last_Order_Date</th>\n",
       "      <th>Expiration_Date</th>\n",
       "      <th>Warehouse_Location</th>\n",
       "      <th>Sales_Volume</th>\n",
       "      <th>Inventory_Turnover_Rate</th>\n",
       "      <th>Status</th>\n",
       "    </tr>\n",
       "  </thead>\n",
       "  <tbody>\n",
       "    <tr>\n",
       "      <th>0</th>\n",
       "      <td>29-205-1132</td>\n",
       "      <td>Sushi Rice</td>\n",
       "      <td>Grains &amp; Pulses</td>\n",
       "      <td>38-037-1699</td>\n",
       "      <td>Jaxnation</td>\n",
       "      <td>22</td>\n",
       "      <td>72</td>\n",
       "      <td>70</td>\n",
       "      <td>$4.50</td>\n",
       "      <td>8/16/2024</td>\n",
       "      <td>6/29/2024</td>\n",
       "      <td>9/19/2024</td>\n",
       "      <td>48 Del Sol Trail</td>\n",
       "      <td>32</td>\n",
       "      <td>19</td>\n",
       "      <td>Discontinued</td>\n",
       "    </tr>\n",
       "    <tr>\n",
       "      <th>1</th>\n",
       "      <td>40-681-9981</td>\n",
       "      <td>Arabica Coffee</td>\n",
       "      <td>Beverages</td>\n",
       "      <td>54-470-2479</td>\n",
       "      <td>Feedmix</td>\n",
       "      <td>45</td>\n",
       "      <td>77</td>\n",
       "      <td>2</td>\n",
       "      <td>$20.00</td>\n",
       "      <td>11/1/2024</td>\n",
       "      <td>5/29/2024</td>\n",
       "      <td>5/8/2024</td>\n",
       "      <td>36 3rd Place</td>\n",
       "      <td>85</td>\n",
       "      <td>1</td>\n",
       "      <td>Discontinued</td>\n",
       "    </tr>\n",
       "    <tr>\n",
       "      <th>2</th>\n",
       "      <td>06-955-3428</td>\n",
       "      <td>Black Rice</td>\n",
       "      <td>Grains &amp; Pulses</td>\n",
       "      <td>54-031-2945</td>\n",
       "      <td>Vinder</td>\n",
       "      <td>30</td>\n",
       "      <td>38</td>\n",
       "      <td>83</td>\n",
       "      <td>$6.00</td>\n",
       "      <td>8/3/2024</td>\n",
       "      <td>6/10/2024</td>\n",
       "      <td>9/22/2024</td>\n",
       "      <td>3296 Walton Court</td>\n",
       "      <td>31</td>\n",
       "      <td>34</td>\n",
       "      <td>Backordered</td>\n",
       "    </tr>\n",
       "    <tr>\n",
       "      <th>3</th>\n",
       "      <td>71-594-6552</td>\n",
       "      <td>Long Grain Rice</td>\n",
       "      <td>Grains &amp; Pulses</td>\n",
       "      <td>63-492-7603</td>\n",
       "      <td>Brightbean</td>\n",
       "      <td>12</td>\n",
       "      <td>59</td>\n",
       "      <td>62</td>\n",
       "      <td>$1.50</td>\n",
       "      <td>12/8/2024</td>\n",
       "      <td>2/19/2025</td>\n",
       "      <td>4/17/2024</td>\n",
       "      <td>3 Westerfield Crossing</td>\n",
       "      <td>95</td>\n",
       "      <td>99</td>\n",
       "      <td>Active</td>\n",
       "    </tr>\n",
       "    <tr>\n",
       "      <th>4</th>\n",
       "      <td>57-437-1828</td>\n",
       "      <td>Plum</td>\n",
       "      <td>Fruits &amp; Vegetables</td>\n",
       "      <td>54-226-4308</td>\n",
       "      <td>Topicstorm</td>\n",
       "      <td>37</td>\n",
       "      <td>30</td>\n",
       "      <td>74</td>\n",
       "      <td>$4.00</td>\n",
       "      <td>7/3/2024</td>\n",
       "      <td>10/11/2024</td>\n",
       "      <td>10/5/2024</td>\n",
       "      <td>15068 Scoville Court</td>\n",
       "      <td>62</td>\n",
       "      <td>25</td>\n",
       "      <td>Backordered</td>\n",
       "    </tr>\n",
       "  </tbody>\n",
       "</table>\n",
       "</div>"
      ],
      "text/plain": [
       "    Product_ID     Product_Name             Catagory  Supplier_ID  \\\n",
       "0  29-205-1132       Sushi Rice      Grains & Pulses  38-037-1699   \n",
       "1  40-681-9981   Arabica Coffee            Beverages  54-470-2479   \n",
       "2  06-955-3428       Black Rice      Grains & Pulses  54-031-2945   \n",
       "3  71-594-6552  Long Grain Rice      Grains & Pulses  63-492-7603   \n",
       "4  57-437-1828             Plum  Fruits & Vegetables  54-226-4308   \n",
       "\n",
       "  Supplier_Name  Stock_Quantity  Reorder_Level  Reorder_Quantity Unit_Price  \\\n",
       "0     Jaxnation              22             72                70     $4.50    \n",
       "1       Feedmix              45             77                 2    $20.00    \n",
       "2        Vinder              30             38                83     $6.00    \n",
       "3    Brightbean              12             59                62     $1.50    \n",
       "4    Topicstorm              37             30                74     $4.00    \n",
       "\n",
       "  Date_Received Last_Order_Date Expiration_Date      Warehouse_Location  \\\n",
       "0     8/16/2024       6/29/2024       9/19/2024        48 Del Sol Trail   \n",
       "1     11/1/2024       5/29/2024        5/8/2024            36 3rd Place   \n",
       "2      8/3/2024       6/10/2024       9/22/2024       3296 Walton Court   \n",
       "3     12/8/2024       2/19/2025       4/17/2024  3 Westerfield Crossing   \n",
       "4      7/3/2024      10/11/2024       10/5/2024    15068 Scoville Court   \n",
       "\n",
       "   Sales_Volume  Inventory_Turnover_Rate        Status  \n",
       "0            32                       19  Discontinued  \n",
       "1            85                        1  Discontinued  \n",
       "2            31                       34   Backordered  \n",
       "3            95                       99        Active  \n",
       "4            62                       25   Backordered  "
      ]
     },
     "execution_count": 6,
     "metadata": {},
     "output_type": "execute_result"
    }
   ],
   "source": [
    "data = pd.DataFrame(df)\n",
    "data.head()"
   ]
  },
  {
   "cell_type": "code",
   "execution_count": 7,
   "id": "02fa2621",
   "metadata": {},
   "outputs": [],
   "source": [
    "data['Unit_Price'] = data['Unit_Price'].replace('[\\$,]', '', regex=True).astype(float)\n",
    "\n",
    "# Drop rows with missing target\n",
    "data.dropna(subset=['Sales_Volume'], inplace=True)\n",
    "\n",
    "# Features\n",
    "numerical = ['Stock_Quantity', 'Reorder_Level', 'Unit_Price', 'Inventory_Turnover_Rate']\n",
    "categorical = ['Catagory', 'Warehouse_Location', 'Supplier_Name']\n",
    "\n",
    "# One-hot encode categoricals\n",
    "data_encoded = pd.get_dummies(data[categorical], drop_first=True)\n",
    "\n",
    "# Final feature matrix and target\n",
    "X = pd.concat([data[numerical], data_encoded], axis=1)\n",
    "y = data['Sales_Volume']\n",
    "\n",
    "# Scale numerical features\n",
    "scaler = StandardScaler()\n",
    "X[numerical] = scaler.fit_transform(X[numerical])"
   ]
  },
  {
   "cell_type": "code",
   "execution_count": 8,
   "id": "104b995f",
   "metadata": {},
   "outputs": [],
   "source": [
    "def build_model(input_dim):\n",
    "    model = Sequential([\n",
    "        Dense(64, activation='relu', input_shape=(input_dim,)),\n",
    "        Dropout(0.2),\n",
    "        Dense(32, activation='relu'),\n",
    "        Dense(1)\n",
    "    ])\n",
    "    model.compile(optimizer='adam', loss='mse', metrics=['mae'])\n",
    "    return model\n"
   ]
  },
  {
   "cell_type": "code",
   "execution_count": 9,
   "id": "c838dee3",
   "metadata": {},
   "outputs": [
    {
     "name": "stdout",
     "output_type": "stream",
     "text": [
      "\n",
      " Fold 1\n",
      "\n",
      " Fold 2\n",
      "\n",
      " Fold 3\n",
      "\n",
      " Fold 4\n"
     ]
    },
    {
     "name": "stderr",
     "output_type": "stream",
     "text": [
      "c:\\Users\\Nikunj\\miniconda3\\envs\\tf_env\\lib\\site-packages\\keras\\src\\layers\\core\\dense.py:93: UserWarning: Do not pass an `input_shape`/`input_dim` argument to a layer. When using Sequential models, prefer using an `Input(shape)` object as the first layer in the model instead.\n",
      "  super().__init__(activity_regularizer=activity_regularizer, **kwargs)\n"
     ]
    },
    {
     "name": "stdout",
     "output_type": "stream",
     "text": [
      "\n",
      " Fold 5\n"
     ]
    }
   ],
   "source": [
    "kf = KFold(n_splits=5, shuffle=True, random_state=42)\n",
    "mae_scores = []\n",
    "\n",
    "for fold, (train_index, val_index) in enumerate(kf.split(X)):\n",
    "    print(f\"\\n Fold {fold+1}\")\n",
    "\n",
    "    X_train, X_val = X.iloc[train_index], X.iloc[val_index]\n",
    "    y_train, y_val = y.iloc[train_index], y.iloc[val_index]\n",
    "\n",
    "    model = build_model(X.shape[1])\n",
    "\n",
    "    early_stop = EarlyStopping(\n",
    "        monitor='val_loss',\n",
    "        patience=3,\n",
    "        restore_best_weights=True\n",
    "    )"
   ]
  },
  {
   "cell_type": "code",
   "execution_count": 10,
   "id": "936c6799",
   "metadata": {},
   "outputs": [],
   "source": [
    "history = model.fit(\n",
    "        X_train, y_train,\n",
    "        validation_data=(X_val, y_val),\n",
    "        epochs=50,\n",
    "        batch_size=32,\n",
    "        callbacks=[early_stop],\n",
    "        verbose=0\n",
    "    )"
   ]
  },
  {
   "cell_type": "code",
   "execution_count": 11,
   "id": "09dc4042",
   "metadata": {},
   "outputs": [
    {
     "name": "stdout",
     "output_type": "stream",
     "text": [
      "✅ Fold 5 Validation MAE: 20.03\n"
     ]
    }
   ],
   "source": [
    "val_mae = model.evaluate(X_val, y_val, verbose=0)[1]\n",
    "print(f\"✅ Fold {fold+1} Validation MAE: {val_mae:.2f}\")\n",
    "mae_scores.append(val_mae)"
   ]
  },
  {
   "cell_type": "code",
   "execution_count": 12,
   "id": "9998a268",
   "metadata": {},
   "outputs": [
    {
     "name": "stdout",
     "output_type": "stream",
     "text": [
      "\n",
      "📊 Average Validation MAE across folds: 20.026180267333984\n"
     ]
    }
   ],
   "source": [
    "print(\"\\n📊 Average Validation MAE across folds:\", np.mean(mae_scores))"
   ]
  }
 ],
 "metadata": {
  "kernelspec": {
   "display_name": "tf_env",
   "language": "python",
   "name": "python3"
  },
  "language_info": {
   "codemirror_mode": {
    "name": "ipython",
    "version": 3
   },
   "file_extension": ".py",
   "mimetype": "text/x-python",
   "name": "python",
   "nbconvert_exporter": "python",
   "pygments_lexer": "ipython3",
   "version": "3.10.18"
  }
 },
 "nbformat": 4,
 "nbformat_minor": 5
}
